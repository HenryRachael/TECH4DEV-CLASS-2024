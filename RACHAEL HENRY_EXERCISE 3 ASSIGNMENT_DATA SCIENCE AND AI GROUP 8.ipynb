{
 "cells": [
  {
   "cell_type": "markdown",
   "id": "2827b7cd",
   "metadata": {},
   "source": [
    "# Software Development – List, Tuple \n",
    "EXERCISE 3"
   ]
  },
  {
   "cell_type": "markdown",
   "id": "c1c96b8b",
   "metadata": {},
   "source": [
    "#QUESTION 1: Write a program that finds the maximum value of the given list, assuming that the list contains at least one element. Try your program with the following array \n",
    "2 4 7 4 23 5 1 4 8 9"
   ]
  },
  {
   "cell_type": "code",
   "execution_count": 1,
   "id": "7e79ae26",
   "metadata": {},
   "outputs": [
    {
     "name": "stdout",
     "output_type": "stream",
     "text": [
      "The maximum value in the list: 23\n"
     ]
    }
   ],
   "source": [
    "My_List= [2,4,7,23,5,1,4,8,9]\n",
    "Max_Value= max(My_List)\n",
    "print(\"The maximum value in the list:\", Max_Value)"
   ]
  },
  {
   "cell_type": "markdown",
   "id": "123dc5d0",
   "metadata": {},
   "source": [
    "#QUESTION 2: Write a program that calculates the average value of the given list. Try your program with the following list \n",
    "4 7 1 5 11 53 12 46 84 23"
   ]
  },
  {
   "cell_type": "code",
   "execution_count": 2,
   "id": "745869fc",
   "metadata": {},
   "outputs": [
    {
     "name": "stdout",
     "output_type": "stream",
     "text": [
      "The Average value in the list: 24.6\n"
     ]
    }
   ],
   "source": [
    "My_List= [4,7,1,5,11,53,12,46,84,23]\n",
    "Average_Value = sum (My_List)/ len (My_List)\n",
    "print(\"The Average value in the list:\", Average_Value)"
   ]
  },
  {
   "cell_type": "markdown",
   "id": "e764a573",
   "metadata": {},
   "source": [
    "#QUESTION 3: Write a program that prints the given list of integers in reverse order. Try your program with the following list \n",
    "2 6 7 45 23 53 14 45 89 5"
   ]
  },
  {
   "cell_type": "code",
   "execution_count": 4,
   "id": "55e6ddbd",
   "metadata": {},
   "outputs": [
    {
     "name": "stdout",
     "output_type": "stream",
     "text": [
      "The reversed order list of integers: [5, 89, 45, 14, 53, 23, 45, 7, 6, 2]\n"
     ]
    }
   ],
   "source": [
    "My_List=[2,6,7,45,23,53,14,45,89,5]\n",
    "Reversed_List= My_List[::-1]\n",
    "print(\"The reversed order list of integers:\",Reversed_List)"
   ]
  },
  {
   "cell_type": "markdown",
   "id": "07c153da",
   "metadata": {},
   "source": [
    "#QUESTION 4: Write a program that accepts two lists of integers and prints true if each element in the first list is less than the element at the same index in the second list. Your program should print false if the lists are not the same length. "
   ]
  },
  {
   "cell_type": "code",
   "execution_count": 35,
   "id": "a0d12664",
   "metadata": {},
   "outputs": [
    {
     "name": "stdout",
     "output_type": "stream",
     "text": [
      "False(lists are not the same length)\n"
     ]
    }
   ],
   "source": [
    "My_List1=[2,4,6,8,10]\n",
    "My_List2=[3,5,7,9,11,15]\n",
    "def compare_lists(My_List1, My_List2):\n",
    "    if len(My_List1) != len(My_List2):\n",
    "        print(\"False(lists are not the same length)\")\n",
    "\n",
    "compare_lists(My_List1,My_List2)\n",
    "\n",
    "  "
   ]
  },
  {
   "cell_type": "markdown",
   "id": "f28cc425",
   "metadata": {},
   "source": [
    "#QUESTION 5: Write a program that accepts a list of integers and two indexes and swaps the elements at those indexes"
   ]
  },
  {
   "cell_type": "code",
   "execution_count": 40,
   "id": "64bd6760",
   "metadata": {},
   "outputs": [
    {
     "name": "stdout",
     "output_type": "stream",
     "text": [
      "[2, 10, 6, 8, 4, 12, 14, 16]\n"
     ]
    }
   ],
   "source": [
    "My_List=[2,4,6,8,10,12,14,16]\n",
    "#swapping the positions of 4 at index 1 and 10 at index 4\n",
    "My_List[1],My_List[4]=My_List[4],My_List[1]\n",
    "print(My_List)"
   ]
  },
  {
   "cell_type": "markdown",
   "id": "231b6c66",
   "metadata": {},
   "source": [
    "#QUESTION 6: Write a program that accepts two lists of integers and prints a new list containing all elements of the first list followed by all elements of the second. "
   ]
  },
  {
   "cell_type": "code",
   "execution_count": 10,
   "id": "0ea9bc9b",
   "metadata": {},
   "outputs": [
    {
     "name": "stdout",
     "output_type": "stream",
     "text": [
      "[1, 2, 3, 4, 5, 6, 7, 8, 9, 10]\n"
     ]
    }
   ],
   "source": [
    "My_List1=[1,2,3,4,5]\n",
    "My_List2=[6,7,8,9,10]\n",
    "New_List= My_List1 + My_List2\n",
    "print(New_List)"
   ]
  },
  {
   "cell_type": "markdown",
   "id": "f139eb7a",
   "metadata": {},
   "source": [
    "#QUESTION 7: Write a program that accepts a list of integers and an integer value as its parameters and prints the last index at which the value occurs in the list. The program should print –1 if the value is not found. For example, in the list [74, 85, 102, 99, 101, 85, 56], the last index of the value 85 is 5."
   ]
  },
  {
   "cell_type": "code",
   "execution_count": 22,
   "id": "a98ca6f5",
   "metadata": {},
   "outputs": [
    {
     "name": "stdout",
     "output_type": "stream",
     "text": [
      "Enter the value to find: 85\n",
      "The last index of 85 is 5\n"
     ]
    }
   ],
   "source": [
    "\n",
    "def last_index_of_value(My_List, value):\n",
    "    # Iterate through the list in reverse\n",
    "    for i in range(len(my_list) - 1, -1, -1):\n",
    "        if My_List[i] == value:\n",
    "            print(f\"The last index of {value} is {i}\")\n",
    "            return\n",
    "\n",
    "    # If the value is not found\n",
    "    print(f\"{value} not found in the list. Last index is -1.\")\n",
    "\n",
    "My_List = [74, 85, 102, 99, 101, 85, 56]\n",
    "value_to_find = int(input(\"Enter the value to find: \"))\n",
    "\n",
    "last_index_of_value(My_List, value_to_find)"
   ]
  },
  {
   "cell_type": "markdown",
   "id": "19053104",
   "metadata": {},
   "source": [
    "#QUESTION 8: Write a program that prints the range of values in a list of integers. The range is defined as 1 more than the difference between the maximum and minimum values in the list. For example, if a list contains the values [36, 12, 25, 19, 46, 31, 22], the program should return 35. You may assume that the list has at least one element."
   ]
  },
  {
   "cell_type": "code",
   "execution_count": 14,
   "id": "dc1698fa",
   "metadata": {},
   "outputs": [
    {
     "name": "stdout",
     "output_type": "stream",
     "text": [
      "The range of the list is: 35\n"
     ]
    }
   ],
   "source": [
    "def calculate_range(My_List):\n",
    "    # Calculate the range as 1 more than the difference between the max and min values\n",
    "    my_range = max(My_List) - min(My_List) + 1\n",
    "    print(\"The range of the list is:\", my_range)\n",
    "My_List= [36, 12, 25, 19, 46, 31, 22]\n",
    "\n",
    "calculate_range(My_List)"
   ]
  },
  {
   "cell_type": "markdown",
   "id": "db083116",
   "metadata": {},
   "source": [
    "#QUESTION 9: Write a program that accepts a list of integers, a minimum value, and a maximum value and prints the count of how many elements from the list fall between the minimum and maximum (inclusive). For example, in the list [14, 1, 22, 17, 36, 7, -43, 5], for minimum value 4 and maximum value 17, there are four elements whose values fall between 4 and 17. "
   ]
  },
  {
   "cell_type": "code",
   "execution_count": 17,
   "id": "cf4cce39",
   "metadata": {},
   "outputs": [
    {
     "name": "stdout",
     "output_type": "stream",
     "text": [
      "Enter the minimum value: 4\n",
      "Enter the maximum value: 17\n",
      "There are 4 elements between 4 and 17 (inclusive).\n"
     ]
    }
   ],
   "source": [
    "def count_elements_in_range(My_List, minimum, maximum):\n",
    "    # Count elements within the specified range\n",
    "    count = sum(minimum <= num <= maximum for num in My_List)\n",
    "    \n",
    "    # Print the count of elements in the range\n",
    "    print(f\"There are {count} elements between {minimum} and {maximum} (inclusive).\")\n",
    "\n",
    "My_List = [14, 1, 22, 17, 36, 7, -43, 5]\n",
    "minimum_value = int(input(\"Enter the minimum value: \"))\n",
    "maximum_value = int(input(\"Enter the maximum value: \"))\n",
    "\n",
    "count_elements_in_range(My_List, minimum_value, maximum_value)"
   ]
  },
  {
   "cell_type": "markdown",
   "id": "206125be",
   "metadata": {},
   "source": [
    "#QUESTION 10: Write a program that accepts a list of real numbers and prints true if the list is in sorted (nondecreasing) order and false otherwise. For example, if lists named list1 and list2 store [16.1, 12.3, 22.2, 14.4] and [1.5, 4.3, 7.0, 19.5, 25.1, 46.2] respectively, the program should print false for list1 and true for list2 respectively. Assume the list has at least one element. A one-element list is sorted."
   ]
  },
  {
   "cell_type": "code",
   "execution_count": 18,
   "id": "320c82d5",
   "metadata": {},
   "outputs": [
    {
     "name": "stdout",
     "output_type": "stream",
     "text": [
      "Is My_List1 sorted? False\n",
      "Is My_List2sorted? True\n"
     ]
    }
   ],
   "source": [
    "def is_sorted(my_list):\n",
    "    # Check if the list is in sorted order\n",
    "    sorted_order = all(my_list[i] <= my_list[i + 1] for i in range(len(my_list) - 1))\n",
    "    \n",
    "    # Print the result\n",
    "    print(sorted_order)\n",
    "\n",
    "My_List1 = [16.1, 12.3, 22.2, 14.4]\n",
    "My_List2 = [1.5, 4.3, 7.0, 19.5, 25.1, 46.2]\n",
    "\n",
    "print(\"Is My_List1 sorted?\", end=\" \")\n",
    "is_sorted(My_List1)\n",
    "\n",
    "print(\"Is My_List2sorted?\", end=\" \")\n",
    "is_sorted(My_List2)"
   ]
  },
  {
   "cell_type": "code",
   "execution_count": null,
   "id": "00b2ca36",
   "metadata": {},
   "outputs": [],
   "source": []
  }
 ],
 "metadata": {
  "kernelspec": {
   "display_name": "Python 3 (ipykernel)",
   "language": "python",
   "name": "python3"
  },
  "language_info": {
   "codemirror_mode": {
    "name": "ipython",
    "version": 3
   },
   "file_extension": ".py",
   "mimetype": "text/x-python",
   "name": "python",
   "nbconvert_exporter": "python",
   "pygments_lexer": "ipython3",
   "version": "3.11.5"
  }
 },
 "nbformat": 4,
 "nbformat_minor": 5
}
