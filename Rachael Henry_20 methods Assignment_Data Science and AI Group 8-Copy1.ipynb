{
 "cells": [
  {
   "cell_type": "markdown",
   "id": "a29b0476",
   "metadata": {},
   "source": [
    "# Python Assignment on Methods"
   ]
  },
  {
   "cell_type": "markdown",
   "id": "4922f621",
   "metadata": {},
   "source": [
    "Write 20 Methods on List, Tuples and Dictionaries with examples"
   ]
  },
  {
   "cell_type": "code",
   "execution_count": 9,
   "id": "93ae923a",
   "metadata": {},
   "outputs": [
    {
     "name": "stdout",
     "output_type": "stream",
     "text": [
      "['cup', 'fan', 'bed', 'radio', 'kettle']\n"
     ]
    }
   ],
   "source": [
    "#Python List append ()method - use to add an element to the end of a list\n",
    "\n",
    "# Example\n",
    "My_List=[\"cup\",\"fan\",\"bed\",\"radio\"]\n",
    "My_List.append(\"kettle\")\n",
    "print(My_List)\n"
   ]
  },
  {
   "cell_type": "code",
   "execution_count": 10,
   "id": "1d58c394",
   "metadata": {},
   "outputs": [
    {
     "name": "stdout",
     "output_type": "stream",
     "text": [
      "[5, 89, 45, 14, 53, 23, 45, 7, 6, 2]\n"
     ]
    }
   ],
   "source": [
    "#Pthyton List reverse(). use to reverse the order of the list\n",
    "\n",
    "# Example\n",
    "My_List=[2,6,7,45,23,53,14,45,89,5]\n",
    "My_List.reverse()\n",
    "print(My_List)"
   ]
  },
  {
   "cell_type": "code",
   "execution_count": 11,
   "id": "1b6f34c8",
   "metadata": {},
   "outputs": [
    {
     "name": "stdout",
     "output_type": "stream",
     "text": [
      "['cup', 'fan', 'radio']\n"
     ]
    }
   ],
   "source": [
    "#Pthyon List pop(). removes the element at specified position\n",
    "\n",
    "#Example\n",
    "My_List=[\"cup\",\"fan\",\"bed\",\"radio\"]\n",
    "My_List.pop(2)\n",
    "print(My_List)"
   ]
  },
  {
   "cell_type": "code",
   "execution_count": 12,
   "id": "6baff07f",
   "metadata": {},
   "outputs": [
    {
     "name": "stdout",
     "output_type": "stream",
     "text": [
      "['cup', 'fan', 'kettle', 'bed', 'radio']\n"
     ]
    }
   ],
   "source": [
    "#Pthython List insert(). it adds an element to a list at a specified position\n",
    "\n",
    "#Example\n",
    "My_List=[\"cup\",\"fan\",\"bed\",\"radio\"]\n",
    "My_List.insert(2,\"kettle\")\n",
    "print(My_List)"
   ]
  },
  {
   "cell_type": "code",
   "execution_count": 13,
   "id": "c2f17e1f",
   "metadata": {},
   "outputs": [
    {
     "name": "stdout",
     "output_type": "stream",
     "text": [
      "['cup', 'bed', 'radio']\n"
     ]
    }
   ],
   "source": [
    "#Python List remove(). removes the first item with specified value\n",
    "\n",
    "#Example\n",
    "My_List=[\"cup\",\"fan\",\"bed\",\"radio\"]\n",
    "My_List.remove(\"fan\")\n",
    "print(My_List)"
   ]
  },
  {
   "cell_type": "code",
   "execution_count": 14,
   "id": "1a8fbd2e",
   "metadata": {},
   "outputs": [
    {
     "name": "stdout",
     "output_type": "stream",
     "text": [
      "['cup', 'fan', 'bed', 'radio']\n"
     ]
    }
   ],
   "source": [
    "#Python List copy (). use to return the copy of a list\n",
    "\n",
    "#Example\n",
    "My_List=[\"cup\",\"fan\",\"bed\",\"radio\"]\n",
    "New_List= My_List.copy()\n",
    "print(New_List)"
   ]
  },
  {
   "cell_type": "code",
   "execution_count": 16,
   "id": "1fb0cf9b",
   "metadata": {},
   "outputs": [
    {
     "name": "stdout",
     "output_type": "stream",
     "text": [
      "['cup', 'fan', 'bed', 'radio', 'spoon', 'knife', 'box']\n"
     ]
    }
   ],
   "source": [
    "#Python List extend(). use to add the element of a list to the end of a current list\n",
    "\n",
    "#Exampe\n",
    "My_List1=[\"cup\",\"fan\",\"bed\",\"radio\"]\n",
    "My_List2=[\"spoon\",\"knife\",\"box\"]\n",
    "My_List1.extend(My_List2)\n",
    "print(My_List1)"
   ]
  },
  {
   "cell_type": "code",
   "execution_count": 28,
   "id": "b87a855b",
   "metadata": {},
   "outputs": [
    {
     "name": "stdout",
     "output_type": "stream",
     "text": [
      "[]\n"
     ]
    }
   ],
   "source": [
    "#Python List clear(). clear all items from a list\n",
    "\n",
    "#Exampe\n",
    "My_List=[\"cup\",\"fan\",\"bed\",\"radio\"]\n",
    "My_List.clear()\n",
    "print(My_List)"
   ]
  },
  {
   "cell_type": "code",
   "execution_count": 29,
   "id": "271a83c3",
   "metadata": {},
   "outputs": [
    {
     "name": "stdout",
     "output_type": "stream",
     "text": [
      "4\n"
     ]
    }
   ],
   "source": [
    "#Python List count(). returns the number times a value appears in a list\n",
    "\n",
    "#Exampe\n",
    "My_List=[1,2,3,4,5,3,3,6,3,7]\n",
    "New_List=My_List.count(3)\n",
    "print(New_List)"
   ]
  },
  {
   "cell_type": "code",
   "execution_count": 17,
   "id": "a1c4c7f1",
   "metadata": {},
   "outputs": [
    {
     "name": "stdout",
     "output_type": "stream",
     "text": [
      "{'Kitchen': 'Stove', 'Bedroom': 'Bed', 'Toilet': 'Sink'}\n"
     ]
    }
   ],
   "source": [
    "#Python dictionary method copy(). returns the copy of all elements in a dictionary\n",
    "\n",
    "#Example\n",
    "My_dict={\"Kitchen\":\"Stove\",\"Bedroom\":\"Bed\",\"Toilet\":\"Sink\"}\n",
    "New_dict=My_dict.copy()\n",
    "print(New_dict)"
   ]
  },
  {
   "cell_type": "code",
   "execution_count": 18,
   "id": "403fa083",
   "metadata": {},
   "outputs": [
    {
     "name": "stdout",
     "output_type": "stream",
     "text": [
      "dict_keys(['Kitchen', 'Bedroom', 'Toilet'])\n"
     ]
    }
   ],
   "source": [
    "#Python dictionary method keys(). returns a list containing the keys in a dictionary\n",
    "\n",
    "#Example\n",
    "My_dict={\"Kitchen\":\"Stove\",\"Bedroom\":\"Bed\",\"Toilet\":\"Sink\"}\n",
    "New_dict=My_dict.keys()\n",
    "print(New_dict)"
   ]
  },
  {
   "cell_type": "code",
   "execution_count": 19,
   "id": "7a471300",
   "metadata": {},
   "outputs": [
    {
     "name": "stdout",
     "output_type": "stream",
     "text": [
      "dict_items([('Kitchen', 'Stove'), ('Bedroom', 'Bed'), ('Toilet', 'Sink')])\n"
     ]
    }
   ],
   "source": [
    "#Python dictionary method items(). returns list containing a tuple for each key-value pair in a dictionary\n",
    "\n",
    "#Example\n",
    "My_dict={\"Kitchen\":\"Stove\",\"Bedroom\":\"Bed\",\"Toilet\":\"Sink\"}\n",
    "New_dict=My_dict.items()\n",
    "print(New_dict)"
   ]
  },
  {
   "cell_type": "code",
   "execution_count": 20,
   "id": "ddf00c6b",
   "metadata": {},
   "outputs": [
    {
     "name": "stdout",
     "output_type": "stream",
     "text": [
      "{'Kitchen': 'Stove', 'Bedroom': 'Bed'}\n"
     ]
    }
   ],
   "source": [
    "#Python dictionary method popitem(). removes the last inserted key- value pair in a dictionary\n",
    "\n",
    "#Example\n",
    "My_dict={\"Kitchen\":\"Stove\",\"Bedroom\":\"Bed\",\"Toilet\":\"Sink\"}\n",
    "My_dict.popitem()\n",
    "print(My_dict)"
   ]
  },
  {
   "cell_type": "code",
   "execution_count": 21,
   "id": "96d74358",
   "metadata": {},
   "outputs": [
    {
     "name": "stdout",
     "output_type": "stream",
     "text": [
      "Sink\n"
     ]
    }
   ],
   "source": [
    "#Python dictionary method gets(). returns the value of the specified key in a dictionary\n",
    "\n",
    "#Example\n",
    "My_dict={\"Kitchen\":\"Stove\",\"Bedroom\":\"Bed\",\"Toilet\":\"Sink\"}\n",
    "New_dict=My_dict.get(\"Toilet\")\n",
    "print(New_dict)"
   ]
  },
  {
   "cell_type": "code",
   "execution_count": 23,
   "id": "434e3756",
   "metadata": {},
   "outputs": [
    {
     "name": "stdout",
     "output_type": "stream",
     "text": [
      "{'Kitchen': 'Stove', 'Bedroom': 'Bed', 'Toilet': 'Sink', 'Dinning': 'Table'}\n"
     ]
    }
   ],
   "source": [
    "#Python dictionary method update(). it updates dictionary with a specified key-value\n",
    "\n",
    "#Example\n",
    "My_dict={\"Kitchen\":\"Stove\",\"Bedroom\":\"Bed\",\"Toilet\":\"Sink\"}\n",
    "My_dict.update({\"Dinning\":\"Table\"})\n",
    "print(My_dict)"
   ]
  },
  {
   "cell_type": "code",
   "execution_count": 24,
   "id": "ca626dfc",
   "metadata": {},
   "outputs": [
    {
     "name": "stdout",
     "output_type": "stream",
     "text": [
      "dict_values(['Stove', 'Bed', 'Sink'])\n"
     ]
    }
   ],
   "source": [
    "#Python dictionary method values(). returns the list of values in a dictionary\n",
    "\n",
    "#Example\n",
    "My_dict={\"Kitchen\":\"Stove\",\"Bedroom\":\"Bed\",\"Toilet\":\"Sink\"}\n",
    "New_dict=My_dict.values()\n",
    "print(New_dict)"
   ]
  },
  {
   "cell_type": "code",
   "execution_count": 25,
   "id": "63e364bd",
   "metadata": {},
   "outputs": [
    {
     "name": "stdout",
     "output_type": "stream",
     "text": [
      "{}\n"
     ]
    }
   ],
   "source": [
    "#Python dictionary method clear(). removes all elements from the dictionary \n",
    "\n",
    "#Example\n",
    "My_dict={\"Kitchen\":\"Stove\",\"Bedroom\":\"Bed\",\"Toilet\":\"Sink\"}\n",
    "My_dict.clear()\n",
    "print(My_dict)"
   ]
  },
  {
   "cell_type": "code",
   "execution_count": 30,
   "id": "6cca7884",
   "metadata": {},
   "outputs": [
    {
     "name": "stdout",
     "output_type": "stream",
     "text": [
      "Bed\n"
     ]
    }
   ],
   "source": [
    "#Python dictionary method setdefault(). returns the list of values in a dictionary\n",
    "\n",
    "#Example\n",
    "My_dict={\"Kitchen\":\"Stove\",\"Bedroom\":\"Bed\",\"Toilet\":\"Sink\"}\n",
    "New_dict=My_dict.setdefault(\"Bedroom\",\"Pillow\")\n",
    "print(New_dict)"
   ]
  },
  {
   "cell_type": "code",
   "execution_count": 26,
   "id": "0526370b",
   "metadata": {},
   "outputs": [
    {
     "name": "stdout",
     "output_type": "stream",
     "text": [
      "6\n"
     ]
    }
   ],
   "source": [
    "#Python tuple method count(). returns the number of times a specified value occurs in a tuple\n",
    "\n",
    "#Example\n",
    "mytuple= (1,2,3,2,4,2,5,2,6,7,8,2,9,2,10)\n",
    "newtuple= mytuple.count(2)\n",
    "print(newtuple)"
   ]
  },
  {
   "cell_type": "code",
   "execution_count": 27,
   "id": "a4811436",
   "metadata": {},
   "outputs": [
    {
     "name": "stdout",
     "output_type": "stream",
     "text": [
      "1\n"
     ]
    }
   ],
   "source": [
    "#Python tuple method index(). returns the number of times a specified value occurs in a tuple\n",
    "\n",
    "#Example\n",
    "mytuple= (1,2,3,2,4,2,5,2,6,7,8,2,9,2,10)\n",
    "newtuple= mytuple.index(2)\n",
    "print(newtuple)"
   ]
  },
  {
   "cell_type": "code",
   "execution_count": null,
   "id": "658e35be",
   "metadata": {},
   "outputs": [],
   "source": []
  }
 ],
 "metadata": {
  "kernelspec": {
   "display_name": "Python 3 (ipykernel)",
   "language": "python",
   "name": "python3"
  },
  "language_info": {
   "codemirror_mode": {
    "name": "ipython",
    "version": 3
   },
   "file_extension": ".py",
   "mimetype": "text/x-python",
   "name": "python",
   "nbconvert_exporter": "python",
   "pygments_lexer": "ipython3",
   "version": "3.11.5"
  }
 },
 "nbformat": 4,
 "nbformat_minor": 5
}
